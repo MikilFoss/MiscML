{
 "cells": [
  {
   "cell_type": "code",
   "execution_count": 2,
   "metadata": {},
   "outputs": [],
   "source": [
    "import torch.nn as nn\n",
    "import torch.nn.functional as F\n",
    "import torch.optim as optim\n",
    "import torch\n",
    "from tqdm import tqdm\n",
    "import numpy as np"
   ]
  },
  {
   "cell_type": "code",
   "execution_count": 23,
   "metadata": {},
   "outputs": [],
   "source": [
    "device = torch.device(\"mps\")"
   ]
  },
  {
   "cell_type": "code",
   "execution_count": 41,
   "metadata": {},
   "outputs": [],
   "source": [
    "#encode the alphabet into one-hot tensors\n",
    "def encode_letter(letter):\n",
    "    vector = torch.zeros(1, 26)\n",
    "    vector[0][ord(letter) - 97] = 1\n",
    "    return vector\n",
    "\n",
    "def decode_letter(vector):\n",
    "    return chr(torch.argmax(vector).item() + 97)\n",
    "\n",
    "data = []\n",
    "labels = []\n",
    "for i in range(26):\n",
    "    data.append(encode_letter(chr(i + 97)))\n",
    "    labels.append(encode_letter(chr(i + 97)))"
   ]
  },
  {
   "cell_type": "code",
   "execution_count": 208,
   "metadata": {},
   "outputs": [],
   "source": [
    "class NeuralNetwork(nn.Module):\n",
    "    def __init__(self):\n",
    "        super(NeuralNetwork, self).__init__()\n",
    "        layers = [26, 150, 64, 3, 64, 150, 26]\n",
    "        # Define the layers\n",
    "        self.fc1 = nn.Linear(layers[0], layers[1])\n",
    "        self.fc2 = nn.Linear(layers[1], layers[2])\n",
    "        self.fc3 = nn.Linear(layers[2], layers[3])\n",
    "        self.fc4 = nn.Linear(layers[3], layers[4])\n",
    "        self.fc5 = nn.Linear(layers[4], layers[5])\n",
    "        self.fc6 = nn.Linear(layers[5], layers[6])\n",
    "\n",
    "    def forward(self, x):\n",
    "        x = F.relu(self.fc1(x))\n",
    "        x = F.relu(self.fc2(x))\n",
    "        x = F.relu(self.fc3(x))\n",
    "        x = F.relu(self.fc4(x))\n",
    "        x = F.relu(self.fc5(x))\n",
    "        x = self.fc6(x)\n",
    "        \n",
    "        return x\n",
    "    def encode(self, x):\n",
    "        x_chars = []\n",
    "        for i in range(len(x)):\n",
    "            x_chars.append(encode_letter(x[i]))\n",
    "        out = []\n",
    "        for i in range(len(x_chars)):\n",
    "            x = x_chars[i]\n",
    "            x = F.relu(self.fc1(x))\n",
    "            x = F.relu(self.fc2(x))\n",
    "            x = F.relu(self.fc3(x))\n",
    "            out.append(x)\n",
    "        return torch.stack(out)\n",
    "    def decode(self, x):\n",
    "        out = []\n",
    "        for ten in x:\n",
    "            ten = F.relu(self.fc4(ten))\n",
    "            ten = F.relu(self.fc5(ten))\n",
    "            ten = self.fc6(ten)\n",
    "            out.append(decode_letter(ten))\n",
    "        return ''.join(out)\n",
    "loss_function = nn.MSELoss()\n",
    "model = NeuralNetwork()\n",
    "optimizer = optim.Adam(model.parameters(), lr=0.001)\n",
    "scheduler = torch.optim.lr_scheduler.ReduceLROnPlateau(optimizer, mode='min', factor=0.5, patience=10, verbose=True, min_lr=1e-6)\n"
   ]
  },
  {
   "cell_type": "code",
   "execution_count": 209,
   "metadata": {},
   "outputs": [
    {
     "name": "stdout",
     "output_type": "stream",
     "text": [
      "Total number of parameters:  27841\n"
     ]
    }
   ],
   "source": [
    "print(\"Total number of parameters: \", sum(p.numel() for p in model.parameters()))"
   ]
  },
  {
   "cell_type": "code",
   "execution_count": 193,
   "metadata": {},
   "outputs": [
    {
     "name": "stdout",
     "output_type": "stream",
     "text": [
      "25\n"
     ]
    }
   ],
   "source": [
    "def efficiency_test():\n",
    "    num_wrong = 0\n",
    "    for i in range(int(26)):\n",
    "        let = chr(i + 97)\n",
    "        letter = encode_letter(let)\n",
    "        output = model(letter)\n",
    "        output = output.detach().numpy()\n",
    "        output = np.argmax(output)\n",
    "        if output != ord(let) - 97:\n",
    "            num_wrong += 1\n",
    "    return num_wrong\n",
    "\n",
    "print(efficiency_test())"
   ]
  },
  {
   "cell_type": "code",
   "execution_count": null,
   "metadata": {},
   "outputs": [],
   "source": [
    "max_epochs = 2000\n",
    "epoch = 0\n",
    "while efficiency_test() != 0 and epoch < max_epochs:\n",
    "    epoch += 1\n",
    "    epoch_loss = 0\n",
    "    for i in range(len(data)):\n",
    "        model.zero_grad()\n",
    "        output = model(data[i])\n",
    "        loss = loss_function(output, labels[i])\n",
    "        loss.backward()\n",
    "        optimizer.step()\n",
    "        epoch_loss += loss.item()\n",
    "    scheduler.step(epoch_loss/len(data))\n",
    "    if epoch % 100 == 0:\n",
    "        print('Epoch: ', epoch, 'Loss: ', loss.item(), 'Letters Wrong:', efficiency_test())"
   ]
  },
  {
   "cell_type": "code",
   "execution_count": null,
   "metadata": {},
   "outputs": [
    {
     "data": {
      "text/plain": [
       "'abcdefghijklmnopqrstuvwxyz'"
      ]
     },
     "execution_count": 149,
     "metadata": {},
     "output_type": "execute_result"
    }
   ],
   "source": [
    "model.decode(model.encode(\"abcdefghijklmnopqrstuvwxyz\"))"
   ]
  }
 ],
 "metadata": {
  "kernelspec": {
   "display_name": "Python 3.10.12 ('mainpython')",
   "language": "python",
   "name": "python3"
  },
  "language_info": {
   "codemirror_mode": {
    "name": "ipython",
    "version": 3
   },
   "file_extension": ".py",
   "mimetype": "text/x-python",
   "name": "python",
   "nbconvert_exporter": "python",
   "pygments_lexer": "ipython3",
   "version": "3.10.12"
  },
  "orig_nbformat": 4,
  "vscode": {
   "interpreter": {
    "hash": "8096fda72fd8b4d66805ec19c8628e390036b9775ae516964b3199bc52f23650"
   }
  }
 },
 "nbformat": 4,
 "nbformat_minor": 2
}
