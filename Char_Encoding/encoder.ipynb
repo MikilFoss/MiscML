{
 "cells": [
  {
   "cell_type": "code",
   "execution_count": 3,
   "metadata": {},
   "outputs": [],
   "source": [
    "import torch.nn as nn\n",
    "import torch.nn.functional as F\n",
    "import torch.optim as optim\n",
    "import torch\n",
    "from tqdm import tqdm\n",
    "import numpy as np"
   ]
  },
  {
   "cell_type": "code",
   "execution_count": 70,
   "metadata": {},
   "outputs": [],
   "source": [
    "class NeuralNetwork(nn.Module):\n",
    "    def __init__(self):\n",
    "        super(NeuralNetwork, self).__init__()\n",
    "        \n",
    "        # Define the layers\n",
    "        self.fc1 = nn.Linear(26, 64)\n",
    "        self.fc2 = nn.Linear(64, 64)\n",
    "        self.fc3 = nn.Linear(64, 3)\n",
    "        self.fc4 = nn.Linear(3, 64)\n",
    "        self.fc5 = nn.Linear(64, 64)\n",
    "        self.fc6 = nn.Linear(64, 26) \n",
    "\n",
    "    def forward(self, x):\n",
    "        x = F.relu(self.fc1(x))\n",
    "        x = F.relu(self.fc2(x))\n",
    "        x = F.relu(self.fc3(x))\n",
    "        x = F.relu(self.fc4(x))\n",
    "        x = F.relu(self.fc5(x))\n",
    "        x = self.fc6(x)\n",
    "        \n",
    "        return x\n",
    "loss_function = nn.MSELoss()\n",
    "model = NeuralNetwork()\n",
    "optimizer = optim.Adam(model.parameters(), lr=0.0001)\n",
    "scheduler = torch.optim.lr_scheduler.ReduceLROnPlateau(optimizer, mode='min', factor=0.5, patience=10, verbose=True, min_lr=1e-6)\n"
   ]
  },
  {
   "cell_type": "code",
   "execution_count": 56,
   "metadata": {},
   "outputs": [],
   "source": [
    "#encode the alphabet into one-hot tensors\n",
    "def encode(letter):\n",
    "    vector = torch.zeros(1, 26)\n",
    "    vector[0][ord(letter) - 97] = 1\n",
    "    return vector\n",
    "\n",
    "data = []\n",
    "labels = []\n",
    "for i in range(26):\n",
    "    data.append(encode(chr(i + 97)))\n",
    "    labels.append(encode(chr(i + 97)))"
   ]
  },
  {
   "cell_type": "code",
   "execution_count": 71,
   "metadata": {},
   "outputs": [
    {
     "name": "stdout",
     "output_type": "stream",
     "text": [
      "Epoch:  0 Loss:  0.03540126979351044\n",
      "Epoch:  100 Loss:  0.03352459892630577\n",
      "Epoch:  200 Loss:  0.02766551449894905\n",
      "Epoch:  300 Loss:  0.02271033264696598\n",
      "Epoch:  400 Loss:  0.02013450860977173\n",
      "Epoch:  500 Loss:  0.015553519129753113\n",
      "Epoch:  600 Loss:  0.010116183198988438\n",
      "Epoch:  700 Loss:  0.006018269341439009\n",
      "Epoch:  800 Loss:  0.0035006776452064514\n",
      "Epoch:  900 Loss:  0.0019083862425759435\n",
      "Epoch:  1000 Loss:  0.0008522673160769045\n",
      "Epoch:  1100 Loss:  0.0003212998271919787\n",
      "Epoch:  1200 Loss:  0.00013152151950635016\n",
      "Epoch:  1300 Loss:  6.1125545471441e-05\n",
      "Epoch 01327: reducing learning rate of group 0 to 5.0000e-05.\n",
      "Epoch:  1400 Loss:  2.282373679918237e-05\n",
      "Epoch:  1500 Loss:  2.5286060918006115e-05\n",
      "Epoch:  1600 Loss:  2.1109543013153598e-05\n",
      "Epoch 01691: reducing learning rate of group 0 to 2.5000e-05.\n",
      "Epoch:  1700 Loss:  2.1006881070206873e-05\n",
      "Epoch:  1800 Loss:  2.481002957210876e-05\n",
      "Epoch:  1900 Loss:  2.298479012097232e-05\n",
      "Epoch:  2000 Loss:  2.526309253880754e-05\n"
     ]
    }
   ],
   "source": [
    "epochs = 2000\n",
    "for epoch in range(epochs+1):\n",
    "    epoch_loss = 0\n",
    "    for i in range(len(data)):\n",
    "        model.zero_grad()\n",
    "        output = model(data[i])\n",
    "        loss = loss_function(output, labels[i])\n",
    "        loss.backward()\n",
    "        optimizer.step()\n",
    "        epoch_loss += loss.item()\n",
    "    scheduler.step(epoch_loss/len(data))\n",
    "    if epoch % 100 == 0:\n",
    "        print('Epoch: ', epoch, 'Loss: ', loss.item())"
   ]
  },
  {
   "cell_type": "code",
   "execution_count": 72,
   "metadata": {},
   "outputs": [
    {
     "name": "stderr",
     "output_type": "stream",
     "text": [
      "100%|██████████| 26/26 [00:00<00:00, 988.48it/s]"
     ]
    },
    {
     "name": "stdout",
     "output_type": "stream",
     "text": [
      "0\n"
     ]
    },
    {
     "name": "stderr",
     "output_type": "stream",
     "text": [
      "\n"
     ]
    }
   ],
   "source": [
    "#efficiency test, ie using an argmax function to determine the letter, is it wrong?\n",
    "num_wrong = 0\n",
    "for i in tqdm(range(int(26))):\n",
    "    let = chr(i + 97)\n",
    "    letter = encode(let)\n",
    "    output = model(letter)\n",
    "    output = output.detach().numpy()\n",
    "    output = np.argmax(output)\n",
    "    if output != ord(let) - 97:\n",
    "        num_wrong += 1\n",
    "print(num_wrong)"
   ]
  }
 ],
 "metadata": {
  "kernelspec": {
   "display_name": "Python 3.10.12 ('mainpython')",
   "language": "python",
   "name": "python3"
  },
  "language_info": {
   "codemirror_mode": {
    "name": "ipython",
    "version": 3
   },
   "file_extension": ".py",
   "mimetype": "text/x-python",
   "name": "python",
   "nbconvert_exporter": "python",
   "pygments_lexer": "ipython3",
   "version": "3.10.12"
  },
  "orig_nbformat": 4,
  "vscode": {
   "interpreter": {
    "hash": "8096fda72fd8b4d66805ec19c8628e390036b9775ae516964b3199bc52f23650"
   }
  }
 },
 "nbformat": 4,
 "nbformat_minor": 2
}
